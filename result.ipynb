{
  "nbformat": 4,
  "nbformat_minor": 0,
  "metadata": {
    "colab": {
      "name": "result.ipynb",
      "provenance": []
    },
    "kernelspec": {
      "name": "python3",
      "display_name": "Python 3"
    },
    "language_info": {
      "name": "python"
    }
  },
  "cells": [
    {
      "cell_type": "markdown",
      "metadata": {
        "id": "jTuXzcQSWu_i"
      },
      "source": [
        "## Harrasment Identification from Online Comments via Machine Learning and Deep Learning Models\n",
        "\n",
        "#### Dataset: Bangla Online Comments Dataset\n",
        "#####  Published: 29 January 2021\n",
        "\n",
        "The total amount of collected comments is 44001. The dataset aims to differentiate whether a comment is a bully expression or not with the help of Natural Language Processing and to what extent it is improper if it is an inappropriate comment. The comments are labeled with different categories of harassment with the help of experts and consensus.\n",
        "\n",
        "URL: https://data.mendeley.com/datasets/9xjx8twk8p/1"
      ]
    },
    {
      "cell_type": "code",
      "execution_count": null,
      "metadata": {
        "id": "tECEygSejPXq"
      },
      "outputs": [],
      "source": [
        "import pandas as pd\n",
        "import numpy as np\n",
        "import seaborn as sns"
      ]
    },
    {
      "cell_type": "code",
      "execution_count": null,
      "metadata": {
        "colab": {
          "base_uri": "https://localhost:8080/"
        },
        "id": "t2-OK2PMQQvN",
        "outputId": "dc9d1305-8c27-497e-facc-388248e2c483"
      },
      "outputs": [
        {
          "output_type": "stream",
          "name": "stdout",
          "text": [
            "Mounted at /content/drive\n"
          ]
        }
      ],
      "source": [
        "from google.colab import drive\n",
        "drive.mount('/content/drive')\n",
        "\n",
        "df_dir= '/content/drive/MyDrive/Dataset NLP/bangla_online_comments_dataset.csv'"
      ]
    },
    {
      "cell_type": "code",
      "execution_count": null,
      "metadata": {
        "id": "xEut_9UIkg3z"
      },
      "outputs": [],
      "source": [
        "df=pd.read_csv(df_dir)"
      ]
    },
    {
      "cell_type": "code",
      "execution_count": null,
      "metadata": {
        "colab": {
          "base_uri": "https://localhost:8080/",
          "height": 424
        },
        "id": "TJDeSyPDY5bh",
        "outputId": "b55d6096-24ec-4c53-d8bf-4e699b539b01"
      },
      "outputs": [
        {
          "output_type": "execute_result",
          "data": {
            "text/plain": [
              "                                                 comment    Category  Gender  \\\n",
              "0      ওই হালার পুত এখন কি মদ খাওয়ার সময় রাতের বেলা...       Actor  Female   \n",
              "1      ঘরে বসে শুট করতে কেমন লেগেছে? ক্যামেরাতে কে ছি...      Singer    Male   \n",
              "2                           অরে বাবা, এই টা কোন পাগল????       Actor  Female   \n",
              "3                                  ক্যাপ্টেন অফ বাংলাদেশ      Sports    Male   \n",
              "4                                               পটকা মাছ  Politician    Male   \n",
              "...                                                  ...         ...     ...   \n",
              "43996                               হিরো আলম,, এগিয়ে যাও      Social    Male   \n",
              "43997  হিরো আলমকে সাপোর্ট দেওয়ার জন্য অসংখ্য ধন্যবাদ...      Social    Male   \n",
              "43998                            হিরো ভাই তুমি এগিয়ে য়াও      Social    Male   \n",
              "43999     হুম ভাও তোমরা এগিয়ে যাও আমরা তোমাদের পিছনে আছি       Actor  Female   \n",
              "44000            হ্যালো তোমাদের সাথে কি আমাকে চ্যাট করবে      Social    Male   \n",
              "\n",
              "       comment react number      label  \n",
              "0                       1.0     sexual  \n",
              "1                       2.0  not bully  \n",
              "2                       2.0  not bully  \n",
              "3                       0.0  not bully  \n",
              "4                       0.0      troll  \n",
              "...                     ...        ...  \n",
              "43996                   0.0  not bully  \n",
              "43997                   1.0  not bully  \n",
              "43998                   0.0  not bully  \n",
              "43999                   1.0  not bully  \n",
              "44000                   0.0  not bully  \n",
              "\n",
              "[44001 rows x 5 columns]"
            ],
            "text/html": [
              "\n",
              "  <div id=\"df-d1bb63a8-02a7-4589-a1d4-c9ffe9b1d1f1\">\n",
              "    <div class=\"colab-df-container\">\n",
              "      <div>\n",
              "<style scoped>\n",
              "    .dataframe tbody tr th:only-of-type {\n",
              "        vertical-align: middle;\n",
              "    }\n",
              "\n",
              "    .dataframe tbody tr th {\n",
              "        vertical-align: top;\n",
              "    }\n",
              "\n",
              "    .dataframe thead th {\n",
              "        text-align: right;\n",
              "    }\n",
              "</style>\n",
              "<table border=\"1\" class=\"dataframe\">\n",
              "  <thead>\n",
              "    <tr style=\"text-align: right;\">\n",
              "      <th></th>\n",
              "      <th>comment</th>\n",
              "      <th>Category</th>\n",
              "      <th>Gender</th>\n",
              "      <th>comment react number</th>\n",
              "      <th>label</th>\n",
              "    </tr>\n",
              "  </thead>\n",
              "  <tbody>\n",
              "    <tr>\n",
              "      <th>0</th>\n",
              "      <td>ওই হালার পুত এখন কি মদ খাওয়ার সময় রাতের বেলা...</td>\n",
              "      <td>Actor</td>\n",
              "      <td>Female</td>\n",
              "      <td>1.0</td>\n",
              "      <td>sexual</td>\n",
              "    </tr>\n",
              "    <tr>\n",
              "      <th>1</th>\n",
              "      <td>ঘরে বসে শুট করতে কেমন লেগেছে? ক্যামেরাতে কে ছি...</td>\n",
              "      <td>Singer</td>\n",
              "      <td>Male</td>\n",
              "      <td>2.0</td>\n",
              "      <td>not bully</td>\n",
              "    </tr>\n",
              "    <tr>\n",
              "      <th>2</th>\n",
              "      <td>অরে বাবা, এই টা কোন পাগল????</td>\n",
              "      <td>Actor</td>\n",
              "      <td>Female</td>\n",
              "      <td>2.0</td>\n",
              "      <td>not bully</td>\n",
              "    </tr>\n",
              "    <tr>\n",
              "      <th>3</th>\n",
              "      <td>ক্যাপ্টেন অফ বাংলাদেশ</td>\n",
              "      <td>Sports</td>\n",
              "      <td>Male</td>\n",
              "      <td>0.0</td>\n",
              "      <td>not bully</td>\n",
              "    </tr>\n",
              "    <tr>\n",
              "      <th>4</th>\n",
              "      <td>পটকা মাছ</td>\n",
              "      <td>Politician</td>\n",
              "      <td>Male</td>\n",
              "      <td>0.0</td>\n",
              "      <td>troll</td>\n",
              "    </tr>\n",
              "    <tr>\n",
              "      <th>...</th>\n",
              "      <td>...</td>\n",
              "      <td>...</td>\n",
              "      <td>...</td>\n",
              "      <td>...</td>\n",
              "      <td>...</td>\n",
              "    </tr>\n",
              "    <tr>\n",
              "      <th>43996</th>\n",
              "      <td>হিরো আলম,, এগিয়ে যাও</td>\n",
              "      <td>Social</td>\n",
              "      <td>Male</td>\n",
              "      <td>0.0</td>\n",
              "      <td>not bully</td>\n",
              "    </tr>\n",
              "    <tr>\n",
              "      <th>43997</th>\n",
              "      <td>হিরো আলমকে সাপোর্ট দেওয়ার জন্য অসংখ্য ধন্যবাদ...</td>\n",
              "      <td>Social</td>\n",
              "      <td>Male</td>\n",
              "      <td>1.0</td>\n",
              "      <td>not bully</td>\n",
              "    </tr>\n",
              "    <tr>\n",
              "      <th>43998</th>\n",
              "      <td>হিরো ভাই তুমি এগিয়ে য়াও</td>\n",
              "      <td>Social</td>\n",
              "      <td>Male</td>\n",
              "      <td>0.0</td>\n",
              "      <td>not bully</td>\n",
              "    </tr>\n",
              "    <tr>\n",
              "      <th>43999</th>\n",
              "      <td>হুম ভাও তোমরা এগিয়ে যাও আমরা তোমাদের পিছনে আছি</td>\n",
              "      <td>Actor</td>\n",
              "      <td>Female</td>\n",
              "      <td>1.0</td>\n",
              "      <td>not bully</td>\n",
              "    </tr>\n",
              "    <tr>\n",
              "      <th>44000</th>\n",
              "      <td>হ্যালো তোমাদের সাথে কি আমাকে চ্যাট করবে</td>\n",
              "      <td>Social</td>\n",
              "      <td>Male</td>\n",
              "      <td>0.0</td>\n",
              "      <td>not bully</td>\n",
              "    </tr>\n",
              "  </tbody>\n",
              "</table>\n",
              "<p>44001 rows × 5 columns</p>\n",
              "</div>\n",
              "      <button class=\"colab-df-convert\" onclick=\"convertToInteractive('df-d1bb63a8-02a7-4589-a1d4-c9ffe9b1d1f1')\"\n",
              "              title=\"Convert this dataframe to an interactive table.\"\n",
              "              style=\"display:none;\">\n",
              "        \n",
              "  <svg xmlns=\"http://www.w3.org/2000/svg\" height=\"24px\"viewBox=\"0 0 24 24\"\n",
              "       width=\"24px\">\n",
              "    <path d=\"M0 0h24v24H0V0z\" fill=\"none\"/>\n",
              "    <path d=\"M18.56 5.44l.94 2.06.94-2.06 2.06-.94-2.06-.94-.94-2.06-.94 2.06-2.06.94zm-11 1L8.5 8.5l.94-2.06 2.06-.94-2.06-.94L8.5 2.5l-.94 2.06-2.06.94zm10 10l.94 2.06.94-2.06 2.06-.94-2.06-.94-.94-2.06-.94 2.06-2.06.94z\"/><path d=\"M17.41 7.96l-1.37-1.37c-.4-.4-.92-.59-1.43-.59-.52 0-1.04.2-1.43.59L10.3 9.45l-7.72 7.72c-.78.78-.78 2.05 0 2.83L4 21.41c.39.39.9.59 1.41.59.51 0 1.02-.2 1.41-.59l7.78-7.78 2.81-2.81c.8-.78.8-2.07 0-2.86zM5.41 20L4 18.59l7.72-7.72 1.47 1.35L5.41 20z\"/>\n",
              "  </svg>\n",
              "      </button>\n",
              "      \n",
              "  <style>\n",
              "    .colab-df-container {\n",
              "      display:flex;\n",
              "      flex-wrap:wrap;\n",
              "      gap: 12px;\n",
              "    }\n",
              "\n",
              "    .colab-df-convert {\n",
              "      background-color: #E8F0FE;\n",
              "      border: none;\n",
              "      border-radius: 50%;\n",
              "      cursor: pointer;\n",
              "      display: none;\n",
              "      fill: #1967D2;\n",
              "      height: 32px;\n",
              "      padding: 0 0 0 0;\n",
              "      width: 32px;\n",
              "    }\n",
              "\n",
              "    .colab-df-convert:hover {\n",
              "      background-color: #E2EBFA;\n",
              "      box-shadow: 0px 1px 2px rgba(60, 64, 67, 0.3), 0px 1px 3px 1px rgba(60, 64, 67, 0.15);\n",
              "      fill: #174EA6;\n",
              "    }\n",
              "\n",
              "    [theme=dark] .colab-df-convert {\n",
              "      background-color: #3B4455;\n",
              "      fill: #D2E3FC;\n",
              "    }\n",
              "\n",
              "    [theme=dark] .colab-df-convert:hover {\n",
              "      background-color: #434B5C;\n",
              "      box-shadow: 0px 1px 3px 1px rgba(0, 0, 0, 0.15);\n",
              "      filter: drop-shadow(0px 1px 2px rgba(0, 0, 0, 0.3));\n",
              "      fill: #FFFFFF;\n",
              "    }\n",
              "  </style>\n",
              "\n",
              "      <script>\n",
              "        const buttonEl =\n",
              "          document.querySelector('#df-d1bb63a8-02a7-4589-a1d4-c9ffe9b1d1f1 button.colab-df-convert');\n",
              "        buttonEl.style.display =\n",
              "          google.colab.kernel.accessAllowed ? 'block' : 'none';\n",
              "\n",
              "        async function convertToInteractive(key) {\n",
              "          const element = document.querySelector('#df-d1bb63a8-02a7-4589-a1d4-c9ffe9b1d1f1');\n",
              "          const dataTable =\n",
              "            await google.colab.kernel.invokeFunction('convertToInteractive',\n",
              "                                                     [key], {});\n",
              "          if (!dataTable) return;\n",
              "\n",
              "          const docLinkHtml = 'Like what you see? Visit the ' +\n",
              "            '<a target=\"_blank\" href=https://colab.research.google.com/notebooks/data_table.ipynb>data table notebook</a>'\n",
              "            + ' to learn more about interactive tables.';\n",
              "          element.innerHTML = '';\n",
              "          dataTable['output_type'] = 'display_data';\n",
              "          await google.colab.output.renderOutput(dataTable, element);\n",
              "          const docLink = document.createElement('div');\n",
              "          docLink.innerHTML = docLinkHtml;\n",
              "          element.appendChild(docLink);\n",
              "        }\n",
              "      </script>\n",
              "    </div>\n",
              "  </div>\n",
              "  "
            ]
          },
          "metadata": {},
          "execution_count": 4
        }
      ],
      "source": [
        "df"
      ]
    },
    {
      "cell_type": "markdown",
      "metadata": {
        "id": "yZMHsW9z8HbE"
      },
      "source": [
        "## Sampling\n",
        "\n",
        "Using judgemental or weighted sampling so that label: 'threat' is sufficiently available."
      ]
    },
    {
      "cell_type": "code",
      "execution_count": null,
      "metadata": {
        "id": "x1k6NHS179LF"
      },
      "outputs": [],
      "source": [
        "df['weights'] = df['label'].map({'threat': 60, 'religious': 10, 'sexual': 10, 'troll': 10, 'not bully': 10})\n",
        "df=df.sample(n=25000,random_state = 1,weights='weights')"
      ]
    },
    {
      "cell_type": "code",
      "execution_count": null,
      "metadata": {
        "colab": {
          "base_uri": "https://localhost:8080/",
          "height": 424
        },
        "id": "6fFARPJE8EQc",
        "outputId": "c4f8adfb-377e-4c3f-f684-f27cec29816c"
      },
      "outputs": [
        {
          "output_type": "execute_result",
          "data": {
            "text/plain": [
              "                                                 comment    Category  Gender  \\\n",
              "0      ওই হালার পুত এখন কি মদ খাওয়ার সময় রাতের বেলা...       Actor  Female   \n",
              "1      ঘরে বসে শুট করতে কেমন লেগেছে? ক্যামেরাতে কে ছি...      Singer    Male   \n",
              "2                           অরে বাবা, এই টা কোন পাগল????       Actor  Female   \n",
              "3                                  ক্যাপ্টেন অফ বাংলাদেশ      Sports    Male   \n",
              "4                                               পটকা মাছ  Politician    Male   \n",
              "...                                                  ...         ...     ...   \n",
              "43996                               হিরো আলম,, এগিয়ে যাও      Social    Male   \n",
              "43997  হিরো আলমকে সাপোর্ট দেওয়ার জন্য অসংখ্য ধন্যবাদ...      Social    Male   \n",
              "43998                            হিরো ভাই তুমি এগিয়ে য়াও      Social    Male   \n",
              "43999     হুম ভাও তোমরা এগিয়ে যাও আমরা তোমাদের পিছনে আছি       Actor  Female   \n",
              "44000            হ্যালো তোমাদের সাথে কি আমাকে চ্যাট করবে      Social    Male   \n",
              "\n",
              "       comment react number      label  \n",
              "0                       1.0     sexual  \n",
              "1                       2.0  not bully  \n",
              "2                       2.0  not bully  \n",
              "3                       0.0  not bully  \n",
              "4                       0.0      troll  \n",
              "...                     ...        ...  \n",
              "43996                   0.0  not bully  \n",
              "43997                   1.0  not bully  \n",
              "43998                   0.0  not bully  \n",
              "43999                   1.0  not bully  \n",
              "44000                   0.0  not bully  \n",
              "\n",
              "[44001 rows x 5 columns]"
            ],
            "text/html": [
              "\n",
              "  <div id=\"df-40eb60b3-a3d4-4840-aaf2-83cdc952dc50\">\n",
              "    <div class=\"colab-df-container\">\n",
              "      <div>\n",
              "<style scoped>\n",
              "    .dataframe tbody tr th:only-of-type {\n",
              "        vertical-align: middle;\n",
              "    }\n",
              "\n",
              "    .dataframe tbody tr th {\n",
              "        vertical-align: top;\n",
              "    }\n",
              "\n",
              "    .dataframe thead th {\n",
              "        text-align: right;\n",
              "    }\n",
              "</style>\n",
              "<table border=\"1\" class=\"dataframe\">\n",
              "  <thead>\n",
              "    <tr style=\"text-align: right;\">\n",
              "      <th></th>\n",
              "      <th>comment</th>\n",
              "      <th>Category</th>\n",
              "      <th>Gender</th>\n",
              "      <th>comment react number</th>\n",
              "      <th>label</th>\n",
              "    </tr>\n",
              "  </thead>\n",
              "  <tbody>\n",
              "    <tr>\n",
              "      <th>0</th>\n",
              "      <td>ওই হালার পুত এখন কি মদ খাওয়ার সময় রাতের বেলা...</td>\n",
              "      <td>Actor</td>\n",
              "      <td>Female</td>\n",
              "      <td>1.0</td>\n",
              "      <td>sexual</td>\n",
              "    </tr>\n",
              "    <tr>\n",
              "      <th>1</th>\n",
              "      <td>ঘরে বসে শুট করতে কেমন লেগেছে? ক্যামেরাতে কে ছি...</td>\n",
              "      <td>Singer</td>\n",
              "      <td>Male</td>\n",
              "      <td>2.0</td>\n",
              "      <td>not bully</td>\n",
              "    </tr>\n",
              "    <tr>\n",
              "      <th>2</th>\n",
              "      <td>অরে বাবা, এই টা কোন পাগল????</td>\n",
              "      <td>Actor</td>\n",
              "      <td>Female</td>\n",
              "      <td>2.0</td>\n",
              "      <td>not bully</td>\n",
              "    </tr>\n",
              "    <tr>\n",
              "      <th>3</th>\n",
              "      <td>ক্যাপ্টেন অফ বাংলাদেশ</td>\n",
              "      <td>Sports</td>\n",
              "      <td>Male</td>\n",
              "      <td>0.0</td>\n",
              "      <td>not bully</td>\n",
              "    </tr>\n",
              "    <tr>\n",
              "      <th>4</th>\n",
              "      <td>পটকা মাছ</td>\n",
              "      <td>Politician</td>\n",
              "      <td>Male</td>\n",
              "      <td>0.0</td>\n",
              "      <td>troll</td>\n",
              "    </tr>\n",
              "    <tr>\n",
              "      <th>...</th>\n",
              "      <td>...</td>\n",
              "      <td>...</td>\n",
              "      <td>...</td>\n",
              "      <td>...</td>\n",
              "      <td>...</td>\n",
              "    </tr>\n",
              "    <tr>\n",
              "      <th>43996</th>\n",
              "      <td>হিরো আলম,, এগিয়ে যাও</td>\n",
              "      <td>Social</td>\n",
              "      <td>Male</td>\n",
              "      <td>0.0</td>\n",
              "      <td>not bully</td>\n",
              "    </tr>\n",
              "    <tr>\n",
              "      <th>43997</th>\n",
              "      <td>হিরো আলমকে সাপোর্ট দেওয়ার জন্য অসংখ্য ধন্যবাদ...</td>\n",
              "      <td>Social</td>\n",
              "      <td>Male</td>\n",
              "      <td>1.0</td>\n",
              "      <td>not bully</td>\n",
              "    </tr>\n",
              "    <tr>\n",
              "      <th>43998</th>\n",
              "      <td>হিরো ভাই তুমি এগিয়ে য়াও</td>\n",
              "      <td>Social</td>\n",
              "      <td>Male</td>\n",
              "      <td>0.0</td>\n",
              "      <td>not bully</td>\n",
              "    </tr>\n",
              "    <tr>\n",
              "      <th>43999</th>\n",
              "      <td>হুম ভাও তোমরা এগিয়ে যাও আমরা তোমাদের পিছনে আছি</td>\n",
              "      <td>Actor</td>\n",
              "      <td>Female</td>\n",
              "      <td>1.0</td>\n",
              "      <td>not bully</td>\n",
              "    </tr>\n",
              "    <tr>\n",
              "      <th>44000</th>\n",
              "      <td>হ্যালো তোমাদের সাথে কি আমাকে চ্যাট করবে</td>\n",
              "      <td>Social</td>\n",
              "      <td>Male</td>\n",
              "      <td>0.0</td>\n",
              "      <td>not bully</td>\n",
              "    </tr>\n",
              "  </tbody>\n",
              "</table>\n",
              "<p>44001 rows × 5 columns</p>\n",
              "</div>\n",
              "      <button class=\"colab-df-convert\" onclick=\"convertToInteractive('df-40eb60b3-a3d4-4840-aaf2-83cdc952dc50')\"\n",
              "              title=\"Convert this dataframe to an interactive table.\"\n",
              "              style=\"display:none;\">\n",
              "        \n",
              "  <svg xmlns=\"http://www.w3.org/2000/svg\" height=\"24px\"viewBox=\"0 0 24 24\"\n",
              "       width=\"24px\">\n",
              "    <path d=\"M0 0h24v24H0V0z\" fill=\"none\"/>\n",
              "    <path d=\"M18.56 5.44l.94 2.06.94-2.06 2.06-.94-2.06-.94-.94-2.06-.94 2.06-2.06.94zm-11 1L8.5 8.5l.94-2.06 2.06-.94-2.06-.94L8.5 2.5l-.94 2.06-2.06.94zm10 10l.94 2.06.94-2.06 2.06-.94-2.06-.94-.94-2.06-.94 2.06-2.06.94z\"/><path d=\"M17.41 7.96l-1.37-1.37c-.4-.4-.92-.59-1.43-.59-.52 0-1.04.2-1.43.59L10.3 9.45l-7.72 7.72c-.78.78-.78 2.05 0 2.83L4 21.41c.39.39.9.59 1.41.59.51 0 1.02-.2 1.41-.59l7.78-7.78 2.81-2.81c.8-.78.8-2.07 0-2.86zM5.41 20L4 18.59l7.72-7.72 1.47 1.35L5.41 20z\"/>\n",
              "  </svg>\n",
              "      </button>\n",
              "      \n",
              "  <style>\n",
              "    .colab-df-container {\n",
              "      display:flex;\n",
              "      flex-wrap:wrap;\n",
              "      gap: 12px;\n",
              "    }\n",
              "\n",
              "    .colab-df-convert {\n",
              "      background-color: #E8F0FE;\n",
              "      border: none;\n",
              "      border-radius: 50%;\n",
              "      cursor: pointer;\n",
              "      display: none;\n",
              "      fill: #1967D2;\n",
              "      height: 32px;\n",
              "      padding: 0 0 0 0;\n",
              "      width: 32px;\n",
              "    }\n",
              "\n",
              "    .colab-df-convert:hover {\n",
              "      background-color: #E2EBFA;\n",
              "      box-shadow: 0px 1px 2px rgba(60, 64, 67, 0.3), 0px 1px 3px 1px rgba(60, 64, 67, 0.15);\n",
              "      fill: #174EA6;\n",
              "    }\n",
              "\n",
              "    [theme=dark] .colab-df-convert {\n",
              "      background-color: #3B4455;\n",
              "      fill: #D2E3FC;\n",
              "    }\n",
              "\n",
              "    [theme=dark] .colab-df-convert:hover {\n",
              "      background-color: #434B5C;\n",
              "      box-shadow: 0px 1px 3px 1px rgba(0, 0, 0, 0.15);\n",
              "      filter: drop-shadow(0px 1px 2px rgba(0, 0, 0, 0.3));\n",
              "      fill: #FFFFFF;\n",
              "    }\n",
              "  </style>\n",
              "\n",
              "      <script>\n",
              "        const buttonEl =\n",
              "          document.querySelector('#df-40eb60b3-a3d4-4840-aaf2-83cdc952dc50 button.colab-df-convert');\n",
              "        buttonEl.style.display =\n",
              "          google.colab.kernel.accessAllowed ? 'block' : 'none';\n",
              "\n",
              "        async function convertToInteractive(key) {\n",
              "          const element = document.querySelector('#df-40eb60b3-a3d4-4840-aaf2-83cdc952dc50');\n",
              "          const dataTable =\n",
              "            await google.colab.kernel.invokeFunction('convertToInteractive',\n",
              "                                                     [key], {});\n",
              "          if (!dataTable) return;\n",
              "\n",
              "          const docLinkHtml = 'Like what you see? Visit the ' +\n",
              "            '<a target=\"_blank\" href=https://colab.research.google.com/notebooks/data_table.ipynb>data table notebook</a>'\n",
              "            + ' to learn more about interactive tables.';\n",
              "          element.innerHTML = '';\n",
              "          dataTable['output_type'] = 'display_data';\n",
              "          await google.colab.output.renderOutput(dataTable, element);\n",
              "          const docLink = document.createElement('div');\n",
              "          docLink.innerHTML = docLinkHtml;\n",
              "          element.appendChild(docLink);\n",
              "        }\n",
              "      </script>\n",
              "    </div>\n",
              "  </div>\n",
              "  "
            ]
          },
          "metadata": {},
          "execution_count": 7
        }
      ],
      "source": [
        "df"
      ]
    },
    {
      "cell_type": "code",
      "execution_count": null,
      "metadata": {
        "colab": {
          "base_uri": "https://localhost:8080/"
        },
        "id": "ywC9IitgeRV8",
        "outputId": "e7a97702-768c-4fa2-c25b-0d3cdee4b301"
      },
      "outputs": [
        {
          "output_type": "execute_result",
          "data": {
            "text/plain": [
              "comment                 0\n",
              "Category                0\n",
              "Gender                  0\n",
              "comment react number    3\n",
              "label                   0\n",
              "dtype: int64"
            ]
          },
          "metadata": {},
          "execution_count": 7
        }
      ],
      "source": [
        "df.isnull().sum()"
      ]
    },
    {
      "cell_type": "code",
      "execution_count": null,
      "metadata": {
        "colab": {
          "base_uri": "https://localhost:8080/"
        },
        "id": "HHQJrXgJexsP",
        "outputId": "4d85562d-48ba-41af-eb5c-77598dc6cb12"
      },
      "outputs": [
        {
          "output_type": "stream",
          "name": "stdout",
          "text": [
            "Duplicates Found.Removing Duplicate\n"
          ]
        }
      ],
      "source": [
        "if(df.duplicated().sum()>0):\n",
        "  print(\"Duplicates Found.Removing Duplicate\")\n",
        "  df=df.drop_duplicates(keep = 'first')"
      ]
    },
    {
      "cell_type": "code",
      "execution_count": null,
      "metadata": {
        "colab": {
          "base_uri": "https://localhost:8080/"
        },
        "id": "SGnXxWN99Whn",
        "outputId": "d0a0f072-1ceb-47d3-8c59-1a9e7183e37f"
      },
      "outputs": [
        {
          "output_type": "execute_result",
          "data": {
            "text/plain": [
              "not bully    15321\n",
              "troll        10439\n",
              "sexual        8883\n",
              "religious     7529\n",
              "threat        1689\n",
              "Name: label, dtype: int64"
            ]
          },
          "metadata": {},
          "execution_count": 9
        }
      ],
      "source": [
        "df['label'].value_counts()"
      ]
    },
    {
      "cell_type": "code",
      "execution_count": null,
      "metadata": {
        "colab": {
          "base_uri": "https://localhost:8080/",
          "height": 320
        },
        "id": "DGpO5BLreJlH",
        "outputId": "12dba804-0c43-4058-ee71-228c0a41bf1a"
      },
      "outputs": [
        {
          "output_type": "execute_result",
          "data": {
            "text/plain": [
              "<matplotlib.axes._subplots.AxesSubplot at 0x7ff297ed3150>"
            ]
          },
          "metadata": {},
          "execution_count": 10
        },
        {
          "output_type": "display_data",
          "data": {
            "text/plain": [
              "<Figure size 432x288 with 1 Axes>"
            ],
            "image/png": "[encoded data removed]"
          },
          "metadata": {
            "needs_background": "light"
          }
        }
      ],
      "source": [
        "import matplotlib.pyplot as plt\n",
        "\n",
        "df['label'].value_counts().plot(kind='bar')"
      ]
    },
    {
      "cell_type": "markdown",
      "metadata": {
        "id": "YblCXqxyS3HM"
      },
      "source": [
        "Removing Stop Words"
      ]
    },
    {
      "cell_type": "code",
      "execution_count": null,
      "metadata": {
        "colab": {
          "base_uri": "https://localhost:8080/"
        },
        "id": "6c-gTUA7RT1D",
        "outputId": "563bc293-5d74-4010-ab43-d832e7b51d0d"
      },
      "outputs": [
        {
          "output_type": "stream",
          "name": "stdout",
          "text": [
            "[nltk_data] Downloading package stopwords to /root/nltk_data...\n",
            "[nltk_data]   Unzipping corpora/stopwords.zip.\n"
          ]
        }
      ],
      "source": [
        "import nltk\n",
        "nltk.download('stopwords')\n",
        "from nltk.corpus import stopwords\n",
        "stop_words = stopwords.words('bengali')\n",
        "df['comment'] = df['comment'].apply(lambda x: ' '.join([word for word in x.split() if word not in (stop_words)]))"
      ]
    },
    {
      "cell_type": "markdown",
      "metadata": {
        "id": "FjEbF5dhS7Z0"
      },
      "source": [
        "Stemming"
      ]
    },
    {
      "cell_type": "code",
      "execution_count": null,
      "metadata": {
        "id": "sfBGhXtnRaq7"
      },
      "outputs": [],
      "source": [
        "from nltk.stem import PorterStemmer\n",
        "#Stemming\n",
        "ps = PorterStemmer()\n",
        "\n",
        "def stem_sentences(sentence):\n",
        "    tokens = sentence.split()\n",
        "    stemmed_tokens = [ps.stem(token) for token in tokens]\n",
        "    return ' '.join(stemmed_tokens)"
      ]
    },
    {
      "cell_type": "markdown",
      "source": [
        "\n",
        "## Keras Embedding ANN CNN LSTM\n",
        "\n",
        "\n"
      ],
      "metadata": {
        "id": "LddelX9q97jD"
      }
    },
    {
      "cell_type": "markdown",
      "source": [
        "ANN With One Hot Embedding"
      ],
      "metadata": {
        "id": "8hD9bKtAl_Ff"
      }
    },
    {
      "cell_type": "code",
      "execution_count": null,
      "metadata": {
        "id": "2mcTZwQmbeO3"
      },
      "outputs": [],
      "source": [
        "from tensorflow.keras.preprocessing.text import one_hot"
      ]
    },
    {
      "cell_type": "code",
      "execution_count": null,
      "metadata": {
        "id": "nHasT-UbDVGK"
      },
      "outputs": [],
      "source": [
        "model1=Sequential()\n",
        "model1.add(Embedding(voc_size,dim,input_length=sent_length))\n",
        "model1.add(Flatten())\n",
        "model1.add(Dense(2000))\n",
        "model1.add(Activation('relu'))\n",
        "model1.add(Dropout(0.2))\n",
        "\n",
        "model1.add(Dense(1000))\n",
        "model1.add(Activation('relu'))\n",
        "model1.add(Dropout(0.2))\n",
        "\n",
        "model1.add(Dense(500))\n",
        "model1.add(Activation('relu'))\n",
        "model1.add(Dropout(0.2))\n",
        "\n",
        "model1.add(Dense(500))\n",
        "model1.add(Activation('relu'))\n",
        "model1.add(Dropout(0.2))\n",
        "\n",
        "#final layer\n",
        "model1.add(Dense(5))\n",
        "model1.add(Activation('softmax'))\n",
        "\n",
        "model1.compile(loss='categorical_crossentropy',metrics=['accuracy'],optimizer='adam')\n"
      ]
    },
    {
      "cell_type": "code",
      "execution_count": null,
      "metadata": {
        "colab": {
          "base_uri": "https://localhost:8080/"
        },
        "id": "TvY8xLQ8FfWk",
        "outputId": "b76d31e3-cab4-4429-b28e-b948723daffe"
      },
      "outputs": [
        {
          "output_type": "stream",
          "name": "stdout",
          "text": [
            "Epoch 1/5\n",
            "550/550 [==============================] - 177s 319ms/step - loss: 1.0162 - accuracy: 0.5961 - val_loss: 0.7985 - val_accuracy: 0.7171\n",
            "Epoch 2/5\n",
            "550/550 [==============================] - 165s 300ms/step - loss: 0.5758 - accuracy: 0.8006 - val_loss: 0.8142 - val_accuracy: 0.7150\n",
            "Epoch 3/5\n",
            "550/550 [==============================] - 169s 307ms/step - loss: 0.2961 - accuracy: 0.9047 - val_loss: 1.0281 - val_accuracy: 0.7061\n",
            "Epoch 4/5\n",
            "550/550 [==============================] - 161s 293ms/step - loss: 0.1669 - accuracy: 0.9492 - val_loss: 1.3152 - val_accuracy: 0.6911\n",
            "Epoch 5/5\n",
            "550/550 [==============================] - 162s 295ms/step - loss: 0.1078 - accuracy: 0.9664 - val_loss: 1.4751 - val_accuracy: 0.6981\n"
          ]
        }
      ],
      "source": [
        "checkpoint_filepath = 'weights.{epoch:02d}-{val_loss:.2f}.h5'\n",
        "model_checkpoint_callback = tf.keras.callbacks.ModelCheckpoint(filepath=checkpoint_filepath, monitor='val_accuracy', mode='max', save_best_only=True)\n",
        "\n",
        "history1=model1.fit(xtrain,y_train_new,batch_size=64,epochs=5,validation_data=(xtest,y_test_new),callbacks=model_checkpoint_callback)"
      ]
    },
    {
      "cell_type": "code",
      "execution_count": null,
      "metadata": {
        "id": "so-vDM3YDY_M",
        "colab": {
          "base_uri": "https://localhost:8080/",
          "height": 350
        },
        "outputId": "d76cc63d-1643-490c-ab5e-e3b2ab976a9c"
      },
      "outputs": [
        {
          "output_type": "display_data",
          "data": {
            "text/plain": [
              "<Figure size 1080x360 with 2 Axes>"
            ],
            "image/png": "[encoded data removed]"
          },
          "metadata": {
            "needs_background": "light"
          }
        }
      ],
      "source": [
        "results(history1)"
      ]
    },
    {
      "cell_type": "code",
      "source": [
        "ac,pr,re,f1 = getClassificationResult(model1,xtest,y_test_new)\n",
        "print(\"Accuracy=\",ac,\" Precision=\",pr,\" Recall=\",re,\" F1 Score= \",f1)"
      ],
      "metadata": {
        "colab": {
          "base_uri": "https://localhost:8080/"
        },
        "id": "nD7CdLOu-w0M",
        "outputId": "5aa9c948-7dd1-48ff-b25a-24b31a3ec9c0"
      },
      "execution_count": null,
      "outputs": [
        {
          "output_type": "stream",
          "name": "stdout",
          "text": [
            "Accuracy= 0.6981  Precision= 0.7022  Recall= 0.6981  F1 Score=  0.6972\n"
          ]
        }
      ]
    },
    {
      "cell_type": "markdown",
      "source": [
        "1D CNN WTH Embedding"
      ],
      "metadata": {
        "id": "aAABqgNy8HuF"
      }
    },
    {
      "cell_type": "code",
      "execution_count": null,
      "metadata": {
        "id": "171M9c1P8Omc"
      },
      "outputs": [],
      "source": [
        "model1=Sequential()\n",
        "model1.add(Embedding(voc_size,dim,input_length=sent_length))\n",
        "model1.add(Flatten())\n",
        "model1.add(Dense(2000))\n",
        "model1.add(Activation('relu'))\n",
        "model1.add(Dropout(0.2))\n",
        "\n",
        "model1.add(Dense(1000))\n",
        "model1.add(Activation('relu'))\n",
        "model1.add(Dropout(0.2))\n",
        "\n",
        "model1.add(Dense(500))\n",
        "model1.add(Activation('relu'))\n",
        "model1.add(Dropout(0.2))\n",
        "\n",
        "model1.add(Dense(500))\n",
        "model1.add(Activation('relu'))\n",
        "model1.add(Dropout(0.2))\n",
        "\n",
        "#final layer\n",
        "model1.add(Dense(5))\n",
        "model1.add(Activation('softmax'))\n",
        "\n",
        "model1.compile(loss='categorical_crossentropy',metrics=['accuracy'],optimizer='adam')\n"
      ]
    },
    {
      "cell_type": "code",
      "execution_count": null,
      "metadata": {
        "colab": {
          "base_uri": "https://localhost:8080/"
        },
        "outputId": "b76d31e3-cab4-4429-b28e-b948723daffe",
        "id": "X2deKyXb8Ome"
      },
      "outputs": [
        {
          "output_type": "stream",
          "name": "stdout",
          "text": [
            "Epoch 1/5\n",
            "550/550 [==============================] - 177s 319ms/step - loss: 1.0162 - accuracy: 0.5961 - val_loss: 0.7985 - val_accuracy: 0.7171\n",
            "Epoch 2/5\n",
            "550/550 [==============================] - 165s 300ms/step - loss: 0.5758 - accuracy: 0.8006 - val_loss: 0.8142 - val_accuracy: 0.7150\n",
            "Epoch 3/5\n",
            "550/550 [==============================] - 169s 307ms/step - loss: 0.2961 - accuracy: 0.9047 - val_loss: 1.0281 - val_accuracy: 0.7061\n",
            "Epoch 4/5\n",
            "550/550 [==============================] - 161s 293ms/step - loss: 0.1669 - accuracy: 0.9492 - val_loss: 1.3152 - val_accuracy: 0.6911\n",
            "Epoch 5/5\n",
            "550/550 [==============================] - 162s 295ms/step - loss: 0.1078 - accuracy: 0.9664 - val_loss: 1.4751 - val_accuracy: 0.6981\n"
          ]
        }
      ],
      "source": [
        "checkpoint_filepath = 'weights.{epoch:02d}-{val_loss:.2f}.h5'\n",
        "model_checkpoint_callback = tf.keras.callbacks.ModelCheckpoint(filepath=checkpoint_filepath, monitor='val_accuracy', mode='max', save_best_only=True)\n",
        "\n",
        "history1=model1.fit(xtrain,y_train_new,batch_size=64,epochs=5,validation_data=(xtest,y_test_new),callbacks=model_checkpoint_callback)"
      ]
    },
    {
      "cell_type": "code",
      "execution_count": null,
      "metadata": {
        "colab": {
          "base_uri": "https://localhost:8080/",
          "height": 350
        },
        "outputId": "d76cc63d-1643-490c-ab5e-e3b2ab976a9c",
        "id": "8DP01JjB8Omg"
      },
      "outputs": [
        {
          "output_type": "display_data",
          "data": {
            "text/plain": [
              "<Figure size 1080x360 with 2 Axes>"
            ],
            "image/png": "[encoded data removed]"
          },
          "metadata": {
            "needs_background": "light"
          }
        }
      ],
      "source": [
        "results(history1)"
      ]
    },
    {
      "cell_type": "code",
      "source": [
        "ac,pr,re,f1 = getClassificationResult(model1,xtest,y_test_new)\n",
        "print(\"Accuracy=\",ac,\" Precision=\",pr,\" Recall=\",re,\" F1 Score= \",f1)"
      ],
      "metadata": {
        "colab": {
          "base_uri": "https://localhost:8080/"
        },
        "outputId": "5aa9c948-7dd1-48ff-b25a-24b31a3ec9c0",
        "id": "-H0wFJlS8Omi"
      },
      "execution_count": null,
      "outputs": [
        {
          "output_type": "stream",
          "name": "stdout",
          "text": [
            "Accuracy= 0.6981  Precision= 0.7022  Recall= 0.6981  F1 Score=  0.6972\n"
          ]
        }
      ]
    },
    {
      "cell_type": "code",
      "execution_count": null,
      "metadata": {
        "id": "hPDf2yR-MqOX"
      },
      "outputs": [],
      "source": [
        "model2=Sequential()\n",
        "model2.add(Embedding(voc_size,dim,input_length=sent_length))\n",
        "model2.add(Dropout(0.1))\n",
        "model2.add(Conv1D(filters=250,\n",
        "                 kernel_size=1,\n",
        "                 padding='same',\n",
        "                 activation='relu',\n",
        "                 strides=1))\n",
        "model2.add(GlobalMaxPooling1D())\n",
        "model2.add(Dense(250))\n",
        "model2.add(Activation('relu'))\n",
        "model2.add(Dense(5, activation='softmax'))\n",
        "\n",
        "\n",
        "\n",
        "\n",
        "model2.compile(loss='categorical_crossentropy',\n",
        "              optimizer='adam',\n",
        "              metrics=['accuracy'])  "
      ]
    },
    {
      "cell_type": "code",
      "execution_count": null,
      "metadata": {
        "colab": {
          "base_uri": "https://localhost:8080/"
        },
        "id": "T38ZAQUYMqOe",
        "outputId": "7698d869-13e6-45b8-84e2-50948a14d896"
      },
      "outputs": [
        {
          "output_type": "stream",
          "name": "stdout",
          "text": [
            "Epoch 1/5\n",
            "550/550 [==============================] - 33s 58ms/step - loss: 0.8249 - accuracy: 0.6920 - val_loss: 0.6824 - val_accuracy: 0.7557\n",
            "Epoch 2/5\n",
            "550/550 [==============================] - 33s 59ms/step - loss: 0.5543 - accuracy: 0.8052 - val_loss: 0.6789 - val_accuracy: 0.7580\n",
            "Epoch 3/5\n",
            "550/550 [==============================] - 31s 57ms/step - loss: 0.4321 - accuracy: 0.8504 - val_loss: 0.7686 - val_accuracy: 0.7478\n",
            "Epoch 4/5\n",
            "550/550 [==============================] - 34s 61ms/step - loss: 0.3279 - accuracy: 0.8866 - val_loss: 0.8415 - val_accuracy: 0.7380\n",
            "Epoch 5/5\n",
            "550/550 [==============================] - 33s 59ms/step - loss: 0.2392 - accuracy: 0.9198 - val_loss: 0.9868 - val_accuracy: 0.7292\n"
          ]
        }
      ],
      "source": [
        "history2 = model2.fit(xtrain, y_train_new,\n",
        "                    batch_size=64,\n",
        "                    epochs=5,\n",
        "                    validation_data=(xtest, y_test_new))"
      ]
    },
    {
      "cell_type": "code",
      "source": [
        "results(history2)"
      ],
      "metadata": {
        "colab": {
          "base_uri": "https://localhost:8080/",
          "height": 350
        },
        "id": "RWTqqFTE5etx",
        "outputId": "d5c7f3df-06e8-45e9-ee74-fb0585d0554f"
      },
      "execution_count": null,
      "outputs": [
        {
          "output_type": "display_data",
          "data": {
            "text/plain": [
              "<Figure size 1080x360 with 2 Axes>"
            ],
            "image/png": "[encoded data removed]"
          },
          "metadata": {
            "needs_background": "light"
          }
        }
      ]
    },
    {
      "cell_type": "code",
      "source": [
        "ac,pr,re,f1 = getClassificationResult(model2,xtest,y_test_new)\n",
        "print(\"Accuracy=\",ac,\" Precision=\",pr,\" Recall=\",re,\" F1 Score= \",f1)"
      ],
      "metadata": {
        "colab": {
          "base_uri": "https://localhost:8080/"
        },
        "id": "ybx5bLxi52_T",
        "outputId": "df46341e-9b9a-4277-f076-e24ad959262b"
      },
      "execution_count": null,
      "outputs": [
        {
          "output_type": "stream",
          "name": "stdout",
          "text": [
            "Accuracy= 0.7292  Precision= 0.7335  Recall= 0.7292  F1 Score=  0.7302\n"
          ]
        }
      ]
    },
    {
      "cell_type": "code",
      "execution_count": null,
      "metadata": {
        "id": "fQeqVR3SRXPm"
      },
      "outputs": [],
      "source": [
        "from keras.models import Sequential\n",
        "from keras.preprocessing.text import Tokenizer\n",
        "from keras.preprocessing.sequence import pad_sequences\n",
        "from keras.layers import Dense, Embedding, LSTM, SpatialDropout1D\n",
        "from sklearn.model_selection import train_test_split \n",
        "import matplotlib.pyplot as plt"
      ]
    },
    {
      "cell_type": "code",
      "execution_count": null,
      "metadata": {
        "colab": {
          "base_uri": "https://localhost:8080/"
        },
        "id": "OfR-9gskRsVG",
        "outputId": "17081b8d-6878-4001-be9c-7432184fc807"
      },
      "outputs": [
        {
          "output_type": "stream",
          "name": "stdout",
          "text": [
            "Model: \"sequential_4\"\n",
            "_________________________________________________________________\n",
            " Layer (type)                Output Shape              Param #   \n",
            "=================================================================\n",
            " embedding_4 (Embedding)     (None, 100, 80)           800000    \n",
            "                                                                 \n",
            " dropout_7 (Dropout)         (None, 100, 80)           0         \n",
            "                                                                 \n",
            " lstm (LSTM)                 (None, 200)               224800    \n",
            "                                                                 \n",
            " dropout_8 (Dropout)         (None, 200)               0         \n",
            "                                                                 \n",
            " dense_11 (Dense)            (None, 5)                 1005      \n",
            "                                                                 \n",
            "=================================================================\n",
            "Total params: 1,025,805\n",
            "Trainable params: 1,025,805\n",
            "Non-trainable params: 0\n",
            "_________________________________________________________________\n",
            "None\n"
          ]
        }
      ],
      "source": [
        "model3 = Sequential()\n",
        "model3.add(Embedding(voc_size,dim,input_length=sent_length))\n",
        "model3.add(Dropout(0.3))\n",
        "model3.add(LSTM(200))\n",
        "model3.add(Dropout(0.3))\n",
        "model3.add(Dense(5,activation='softmax'))\n",
        "model3.compile(loss = 'categorical_crossentropy', optimizer='adam', metrics = ['accuracy'])\n",
        "print(model3.summary())"
      ]
    },
    {
      "cell_type": "code",
      "execution_count": null,
      "metadata": {
        "colab": {
          "base_uri": "https://localhost:8080/"
        },
        "id": "Oo-swfTeR2EF",
        "outputId": "d839fbc0-42df-40e2-f69b-ebd476d81991"
      },
      "outputs": [
        {
          "output_type": "stream",
          "name": "stdout",
          "text": [
            "Epoch 1/5\n",
            "2200/2200 [==============================] - 491s 221ms/step - loss: 0.8649 - accuracy: 0.6764 - val_loss: 0.6900 - val_accuracy: 0.7538\n",
            "Epoch 2/5\n",
            "2200/2200 [==============================] - 470s 213ms/step - loss: 0.5827 - accuracy: 0.7985 - val_loss: 0.6956 - val_accuracy: 0.7604\n",
            "Epoch 3/5\n",
            "2200/2200 [==============================] - 472s 214ms/step - loss: 0.4742 - accuracy: 0.8370 - val_loss: 0.7051 - val_accuracy: 0.7600\n",
            "Epoch 4/5\n",
            "2200/2200 [==============================] - 470s 213ms/step - loss: 0.3878 - accuracy: 0.8685 - val_loss: 0.7713 - val_accuracy: 0.7496\n",
            "Epoch 5/5\n",
            "2200/2200 [==============================] - 493s 224ms/step - loss: 0.3153 - accuracy: 0.8938 - val_loss: 0.7963 - val_accuracy: 0.7509\n"
          ]
        }
      ],
      "source": [
        "history3=model3.fit(xtrain, y_train_new, epochs = 5, batch_size=16,validation_data=(xtest, y_test_new), verbose = 'auto')"
      ]
    },
    {
      "cell_type": "code",
      "source": [
        "results(history3)"
      ],
      "metadata": {
        "colab": {
          "base_uri": "https://localhost:8080/",
          "height": 350
        },
        "id": "Bdc5M1OH5j70",
        "outputId": "558e67ca-389f-40c4-dcd5-40e0b679f09b"
      },
      "execution_count": null,
      "outputs": [
        {
          "output_type": "display_data",
          "data": {
            "text/plain": [
              "<Figure size 1080x360 with 2 Axes>"
            ],
            "image/png": "[encoded data removed]"
          },
          "metadata": {
            "needs_background": "light"
          }
        }
      ]
    },
    {
      "cell_type": "code",
      "source": [
        "ac,pr,re,f1 = getClassificationResult(model3,xtest,y_test_new)\n",
        "print(\"Accuracy=\",ac,\" Precision=\",pr,\" Recall=\",re,\" F1 Score= \",f1)\n",
        "result.append(getClassificationResult(model3,xtest,y_test_new))"
      ],
      "metadata": {
        "colab": {
          "base_uri": "https://localhost:8080/"
        },
        "id": "j0Vuc8AF55uk",
        "outputId": "38287c9a-0343-43c2-8c3f-66879861fd52"
      },
      "execution_count": null,
      "outputs": [
        {
          "output_type": "stream",
          "name": "stdout",
          "text": [
            "Accuracy= 0.7509  Precision= 0.7505  Recall= 0.7509  F1 Score=  0.7497\n"
          ]
        }
      ]
    },
    {
      "cell_type": "markdown",
      "source": [
        "## BERT"
      ],
      "metadata": {
        "id": "LjZpizdW9DtQ"
      }
    },
    {
      "cell_type": "markdown",
      "source": [
        "Model"
      ],
      "metadata": {
        "id": "pGB-NlAs9b0z"
      }
    },
    {
      "cell_type": "code",
      "execution_count": null,
      "metadata": {
        "id": "ILZoY_rYFKGE"
      },
      "outputs": [],
      "source": [
        "def build_classifier_model():\n",
        "  text_input = tf.keras.layers.Input(shape=(), dtype=tf.string, name='text')\n",
        "  preprocessing_layer = hub.KerasLayer(tfhub_handle_preprocess, name='preprocessing')\n",
        "  encoder_inputs = preprocessing_layer(text_input)\n",
        "  encoder = hub.KerasLayer(tfhub_handle_encoder, trainable=True, name='BERT_encoder')\n",
        "  outputs = encoder(encoder_inputs)\n",
        "  net = outputs['pooled_output']\n",
        "  net = tf.keras.layers.Dropout(0.1)(net)\n",
        "  net = tf.keras.layers.Dense(5, activation=None, name='classifier')(net)\n",
        "  return tf.keras.Model(text_input, net)"
      ]
    },
    {
      "cell_type": "code",
      "execution_count": null,
      "metadata": {
        "colab": {
          "base_uri": "https://localhost:8080/"
        },
        "id": "7bkHRZNmH0e1",
        "outputId": "78700cfe-46c8-4c5e-e9ff-200f49a67cd0"
      },
      "outputs": [
        {
          "output_type": "stream",
          "name": "stdout",
          "text": [
            "Epoch 1/50\n",
            "275/275 [==============================] - 362s 1s/step - loss: 1.6394 - accuracy: 0.2489 - val_loss: 1.4619 - val_accuracy: 0.3362\n",
            "Epoch 2/50\n",
            "275/275 [==============================] - 353s 1s/step - loss: 1.4644 - accuracy: 0.3439 - val_loss: 1.3562 - val_accuracy: 0.4127\n",
            "Epoch 3/50\n",
            "275/275 [==============================] - 356s 1s/step - loss: 1.3666 - accuracy: 0.4015 - val_loss: 1.2280 - val_accuracy: 0.4882\n",
            "Epoch 4/50\n",
            "275/275 [==============================] - 354s 1s/step - loss: 1.2262 - accuracy: 0.4960 - val_loss: 1.0679 - val_accuracy: 0.5677\n",
            "Epoch 5/50\n",
            "275/275 [==============================] - 356s 1s/step - loss: 1.1001 - accuracy: 0.5568 - val_loss: 1.0106 - val_accuracy: 0.5960\n",
            "Epoch 6/50\n",
            "275/275 [==============================] - 355s 1s/step - loss: 1.0419 - accuracy: 0.5792 - val_loss: 0.9712 - val_accuracy: 0.6137\n",
            "Epoch 7/50\n",
            "275/275 [==============================] - 354s 1s/step - loss: 0.9898 - accuracy: 0.6028 - val_loss: 0.9141 - val_accuracy: 0.6392\n",
            "Epoch 8/50\n",
            "275/275 [==============================] - 354s 1s/step - loss: 0.9462 - accuracy: 0.6272 - val_loss: 0.8768 - val_accuracy: 0.6533\n",
            "Epoch 9/50\n",
            "275/275 [==============================] - 354s 1s/step - loss: 0.9054 - accuracy: 0.6478 - val_loss: 0.8517 - val_accuracy: 0.6722\n",
            "Epoch 10/50\n",
            "275/275 [==============================] - 353s 1s/step - loss: 0.8700 - accuracy: 0.6631 - val_loss: 0.8228 - val_accuracy: 0.6873\n",
            "Epoch 11/50\n",
            "275/275 [==============================] - 353s 1s/step - loss: 0.8449 - accuracy: 0.6766 - val_loss: 0.7944 - val_accuracy: 0.7006\n",
            "Epoch 12/50\n",
            "275/275 [==============================] - 354s 1s/step - loss: 0.8183 - accuracy: 0.6906 - val_loss: 0.7684 - val_accuracy: 0.7144\n",
            "Epoch 13/50\n",
            "275/275 [==============================] - 354s 1s/step - loss: 0.7927 - accuracy: 0.7045 - val_loss: 0.7600 - val_accuracy: 0.7209\n",
            "Epoch 14/50\n",
            "275/275 [==============================] - 359s 1s/step - loss: 0.7677 - accuracy: 0.7145 - val_loss: 0.7457 - val_accuracy: 0.7284\n",
            "Epoch 15/50\n",
            "275/275 [==============================] - 355s 1s/step - loss: 0.7471 - accuracy: 0.7242 - val_loss: 0.7294 - val_accuracy: 0.7366\n",
            "Epoch 16/50\n",
            "275/275 [==============================] - 356s 1s/step - loss: 0.7274 - accuracy: 0.7345 - val_loss: 0.7171 - val_accuracy: 0.7428\n",
            "Epoch 17/50\n",
            "275/275 [==============================] - 355s 1s/step - loss: 0.7050 - accuracy: 0.7449 - val_loss: 0.7132 - val_accuracy: 0.7490\n",
            "Epoch 18/50\n",
            "275/275 [==============================] - 356s 1s/step - loss: 0.6885 - accuracy: 0.7513 - val_loss: 0.6794 - val_accuracy: 0.7608\n",
            "Epoch 19/50\n",
            "275/275 [==============================] - 357s 1s/step - loss: 0.6714 - accuracy: 0.7585 - val_loss: 0.6692 - val_accuracy: 0.7642\n",
            "Epoch 20/50\n",
            "275/275 [==============================] - 356s 1s/step - loss: 0.6541 - accuracy: 0.7641 - val_loss: 0.6800 - val_accuracy: 0.7624\n",
            "Epoch 21/50\n",
            "275/275 [==============================] - 356s 1s/step - loss: 0.6396 - accuracy: 0.7710 - val_loss: 0.6583 - val_accuracy: 0.7734\n",
            "Epoch 22/50\n",
            "275/275 [==============================] - 356s 1s/step - loss: 0.6236 - accuracy: 0.7768 - val_loss: 0.6496 - val_accuracy: 0.7768\n",
            "Epoch 23/50\n",
            "275/275 [==============================] - 355s 1s/step - loss: 0.6049 - accuracy: 0.7842 - val_loss: 0.6465 - val_accuracy: 0.7784\n",
            "Epoch 24/50\n",
            "275/275 [==============================] - 354s 1s/step - loss: 0.5945 - accuracy: 0.7887 - val_loss: 0.6510 - val_accuracy: 0.7810\n",
            "Epoch 25/50\n",
            "275/275 [==============================] - 354s 1s/step - loss: 0.5828 - accuracy: 0.7932 - val_loss: 0.6432 - val_accuracy: 0.7785\n",
            "Epoch 26/50\n",
            "275/275 [==============================] - 355s 1s/step - loss: 0.5656 - accuracy: 0.8001 - val_loss: 0.6423 - val_accuracy: 0.7796\n",
            "Epoch 27/50\n",
            "275/275 [==============================] - 357s 1s/step - loss: 0.5517 - accuracy: 0.8035 - val_loss: 0.6383 - val_accuracy: 0.7908\n",
            "Epoch 28/50\n",
            "275/275 [==============================] - 355s 1s/step - loss: 0.5446 - accuracy: 0.8103 - val_loss: 0.6273 - val_accuracy: 0.7899\n",
            "Epoch 29/50\n",
            "275/275 [==============================] - 356s 1s/step - loss: 0.5237 - accuracy: 0.8159 - val_loss: 0.6303 - val_accuracy: 0.7950\n",
            "Epoch 30/50\n",
            "275/275 [==============================] - 355s 1s/step - loss: 0.5133 - accuracy: 0.8200 - val_loss: 0.6349 - val_accuracy: 0.7899\n",
            "Epoch 31/50\n",
            "275/275 [==============================] - 354s 1s/step - loss: 0.5019 - accuracy: 0.8235 - val_loss: 0.6448 - val_accuracy: 0.7906\n",
            "Epoch 32/50\n",
            "275/275 [==============================] - 354s 1s/step - loss: 0.4840 - accuracy: 0.8293 - val_loss: 0.6383 - val_accuracy: 0.7942\n",
            "Epoch 33/50\n",
            "275/275 [==============================] - 354s 1s/step - loss: 0.4759 - accuracy: 0.8338 - val_loss: 0.6482 - val_accuracy: 0.7914\n",
            "Epoch 34/50\n",
            "275/275 [==============================] - 351s 1s/step - loss: 0.4657 - accuracy: 0.8361 - val_loss: 0.6530 - val_accuracy: 0.7956\n",
            "Epoch 35/50\n",
            "275/275 [==============================] - 366s 1s/step - loss: 0.4481 - accuracy: 0.8424 - val_loss: 0.6476 - val_accuracy: 0.7937\n",
            "Epoch 36/50\n",
            "275/275 [==============================] - 350s 1s/step - loss: 0.4344 - accuracy: 0.8475 - val_loss: 0.6700 - val_accuracy: 0.7857\n",
            "Epoch 37/50\n",
            "275/275 [==============================] - 351s 1s/step - loss: 0.4213 - accuracy: 0.8530 - val_loss: 0.6533 - val_accuracy: 0.7975\n",
            "Epoch 38/50\n",
            "275/275 [==============================] - 349s 1s/step - loss: 0.4099 - accuracy: 0.8566 - val_loss: 0.6612 - val_accuracy: 0.7975\n",
            "Epoch 39/50\n",
            "275/275 [==============================] - 348s 1s/step - loss: 0.3948 - accuracy: 0.8606 - val_loss: 0.6750 - val_accuracy: 0.7963\n",
            "Epoch 40/50\n",
            "275/275 [==============================] - 348s 1s/step - loss: 0.3829 - accuracy: 0.8662 - val_loss: 0.6802 - val_accuracy: 0.7947\n",
            "Epoch 41/50\n",
            "275/275 [==============================] - 350s 1s/step - loss: 0.3707 - accuracy: 0.8706 - val_loss: 0.7042 - val_accuracy: 0.8013\n",
            "Epoch 42/50\n",
            "275/275 [==============================] - 349s 1s/step - loss: 0.3585 - accuracy: 0.8741 - val_loss: 0.7041 - val_accuracy: 0.7987\n",
            "Epoch 43/50\n",
            "275/275 [==============================] - 349s 1s/step - loss: 0.3447 - accuracy: 0.8789 - val_loss: 0.7139 - val_accuracy: 0.8004\n",
            "Epoch 44/50\n",
            "275/275 [==============================] - 348s 1s/step - loss: 0.3357 - accuracy: 0.8805 - val_loss: 0.7313 - val_accuracy: 0.7960\n",
            "Epoch 45/50\n",
            "275/275 [==============================] - 348s 1s/step - loss: 0.3180 - accuracy: 0.8884 - val_loss: 0.7510 - val_accuracy: 0.7964\n",
            "Epoch 46/50\n",
            "275/275 [==============================] - 347s 1s/step - loss: 0.3064 - accuracy: 0.8916 - val_loss: 0.7441 - val_accuracy: 0.7955\n",
            "Epoch 47/50\n",
            "275/275 [==============================] - 347s 1s/step - loss: 0.2905 - accuracy: 0.8975 - val_loss: 0.7614 - val_accuracy: 0.8008\n",
            "Epoch 48/50\n",
            "275/275 [==============================] - 348s 1s/step - loss: 0.2820 - accuracy: 0.9001 - val_loss: 0.7746 - val_accuracy: 0.7982\n",
            "Epoch 49/50\n",
            "275/275 [==============================] - 348s 1s/step - loss: 0.2684 - accuracy: 0.9063 - val_loss: 0.7910 - val_accuracy: 0.7955\n",
            "Epoch 50/50\n",
            "275/275 [==============================] - 347s 1s/step - loss: 0.2522 - accuracy: 0.9094 - val_loss: 0.8271 - val_accuracy: 0.7980\n"
          ]
        }
      ],
      "source": [
        "history4=classifier_model.fit(xtrain,y_train_new,epochs=50,batch_size=128,validation_data=(xtest,y_test_new),callbacks=model_checkpoint_callback)"
      ]
    },
    {
      "cell_type": "code",
      "source": [
        "from matplotlib import pyplot as plt\n",
        "def results(history):\n",
        "    # Accuracy\n",
        "    plt.figure(figsize=(15, 5))\n",
        "    plt.subplot(1, 2, 1)\n",
        "    plt.plot(history.history['accuracy']); plt.plot(history.history['val_accuracy']);\n",
        "    plt.title('model accuracy'); plt.ylabel('accuracy');\n",
        "    plt.xlabel('epoch'); plt.legend(['train', 'valid'], loc='upper left');\n",
        "\n",
        "    # Loss\n",
        "    plt.subplot(1, 2, 2)\n",
        "    plt.plot(history.history['loss']); plt.plot(history.history['val_loss']);\n",
        "    plt.title('model loss'); plt.ylabel('loss');\n",
        "    plt.xlabel('epoch'); plt.legend(['train', 'valid'], loc='upper left');\n",
        "    plt.show()\n",
        "results(history4)"
      ],
      "metadata": {
        "colab": {
          "base_uri": "https://localhost:8080/",
          "height": 350
        },
        "id": "Kc0OUJfHXPSg",
        "outputId": "4017aba3-0bbf-41d8-a3f8-d0c115d5280c"
      },
      "execution_count": null,
      "outputs": [
        {
          "output_type": "display_data",
          "data": {
            "text/plain": [
              "<Figure size 1080x360 with 2 Axes>"
            ],
            "image/png": "[encoded data removed]"
          },
          "metadata": {
            "needs_background": "light"
          }
        }
      ]
    },
    {
      "cell_type": "markdown",
      "source": [
        "Model Best Result"
      ],
      "metadata": {
        "id": "cQQfermwKhOK"
      }
    },
    {
      "cell_type": "code",
      "source": [
        "from tensorflow import keras\n",
        "model_dir= '/content/drive/MyDrive/Dataset NLP/'\n",
        "\n",
        "best_model=keras.models.load_model(model_dir+\"weights.41-0.70.h5\",custom_objects={'KerasLayer':hub.KerasLayer},compile=False)\n"
      ],
      "metadata": {
        "id": "o8GLfGE8JLC8"
      },
      "execution_count": null,
      "outputs": []
    },
    {
      "cell_type": "code",
      "source": [
        "ac,pr,re,f1 = getClassificationResult(best_model,xtest,y_test_new)\n",
        "print(\"Accuracy=\",ac,\" Precision=\",pr,\" Recall=\",re,\" F1 Score= \",f1)"
      ],
      "metadata": {
        "colab": {
          "base_uri": "https://localhost:8080/"
        },
        "id": "aDnnVUG2Kz8e",
        "outputId": "945d2512-23c4-4ef1-fe5c-5e86bb07e87e"
      },
      "execution_count": null,
      "outputs": [
        {
          "output_type": "stream",
          "name": "stdout",
          "text": [
            "Accuracy= 0.8013  Precision= 0.8002  Recall= 0.8013  F1 Score=  0.7999\n"
          ]
        }
      ]
    },
    {
      "cell_type": "markdown",
      "metadata": {
        "id": "UdkKkWt6F6Ie"
      },
      "source": [
        "Result Comparison"
      ]
    },
    {
      "cell_type": "code",
      "execution_count": null,
      "metadata": {
        "colab": {
          "base_uri": "https://localhost:8080/",
          "height": 517
        },
        "id": "BT3Tuz7vHiMt",
        "outputId": "09c1a761-6536-47fa-e6a8-51c2de58d027"
      },
      "outputs": [
        {
          "output_type": "display_data",
          "data": {
            "text/plain": [
              "<Figure size 1008x504 with 1 Axes>"
            ],
            "image/png": "[encoded data removed]"
          },
          "metadata": {
            "needs_background": "light"
          }
        }
      ],
      "source": [
        "import numpy as np\n",
        "import matplotlib.pyplot as plt\n",
        "\n",
        "\n",
        "data={'accuracy':[result[0][0],result[1][0],result[2][0],result[3][0]],'precision':[result[0][1],result[1][1],result[2][1],result[3][1]],'recall':[result[0][2],result[1][2],result[2][2],result[3][2]],'f1-score':[result[0][3],result[1][3],result[2][3],result[3][3]],'Model':['Embedding & ANN','Embedding & 1D CNN','Embedding & LSTM','BERT']}\n",
        "df = pd.DataFrame(data)\n",
        "\n",
        "ax = df[[\"Model\",\"accuracy\", \"precision\", \"recall\", \"f1-score\"]].plot(x='Model', \n",
        "                                                      kind='bar', \n",
        "                                                      color=[\"g\",\"y\",\"r\",\"b\"],\n",
        "                                                      rot=45,figsize=(14,7),width=.70)\n",
        "ax.set_ylabel('Score')\n",
        "ax.legend([\"accuracy\", \"precision\",\"recall\", \"f1-score\"],bbox_to_anchor = (1.05, 0.6));\n"
      ]
    },
    {
      "cell_type": "markdown",
      "metadata": {
        "id": "J6PQVD-8K_TT"
      },
      "source": [
        "#### Result: \n",
        "\n",
        "\n",
        "*   BERT model performs better result than other (80% Accuracy)\n",
        "\n",
        "\n",
        "\n"
      ]
    }
  ]
}